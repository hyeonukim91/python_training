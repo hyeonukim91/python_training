{
  "nbformat": 4,
  "nbformat_minor": 0,
  "metadata": {
    "colab": {
      "name": "secer.ipynb",
      "provenance": [],
      "authorship_tag": "ABX9TyOsZxrWCGlkGxyHVCy2Umjq",
      "include_colab_link": true
    },
    "kernelspec": {
      "name": "python3",
      "display_name": "Python 3"
    },
    "language_info": {
      "name": "python"
    }
  },
  "cells": [
    {
      "cell_type": "markdown",
      "metadata": {
        "id": "view-in-github",
        "colab_type": "text"
      },
      "source": [
        "<a href=\"https://colab.research.google.com/github/hyeonukim91/python_training/blob/main/secer.ipynb\" target=\"_parent\"><img src=\"https://colab.research.google.com/assets/colab-badge.svg\" alt=\"Open In Colab\"/></a>"
      ]
    },
    {
      "cell_type": "markdown",
      "source": [
        "### ŠEĆER\n",
        "\n",
        "####Question\n",
        "Mirko works in a sugar factory as a delivery boy. He has just received an order: he has to deliver exactly N kilograms of sugar to a candy store on the Adriatic coast. Mirko can use two types of packages, the ones that contain 3 kilograms, and the ones with 5 kilograms of sugar.\n",
        "\n",
        "Mirko would like to take as few packages as possible. For example, if he has to deliver 18 kilograms of sugar, he could use six 3-kilogram packages. But, it would be better to use three 5-kilogram packages, and one 3-kilogram package, resulting in the total of four packages.\n",
        "\n",
        "Help Mirko by finding the minimum number of packages required to transport exactly N kilograms of sugar.\n",
        "\n",
        "###Input\n",
        "The first and only line of input contains one integer N (3 ≤ N ≤ 5000).\n",
        "\n",
        "###Output\n",
        "The first and only line of output should contain the minimum number of packages Mirko has to use. If it is impossible to deliver exactly N kilograms, output -1.\n",
        "\n",
        "\n"
      ],
      "metadata": {
        "id": "l0rtI5Dcw_BU"
      }
    },
    {
      "cell_type": "code",
      "source": [
        "N = int(input())\n",
        "\n",
        "if N%5 == 0:\n",
        "    print(N//5)\n",
        "elif N%5 == 1 and N >= 6:\n",
        "    print( (N//5) + 1)\n",
        "elif N%5 == 2 and N >= 12:\n",
        "    print( N//5 + 2)\n",
        "elif N%5 == 3:\n",
        "    print(N//5 + 1)\n",
        "elif N%5 == 4 and N >= 9:\n",
        "    print(N//5+2)\n",
        "else:\n",
        "    print(-1)"
      ],
      "metadata": {
        "id": "1o_Gxut7w_Nl"
      },
      "execution_count": null,
      "outputs": []
    }
  ]
}